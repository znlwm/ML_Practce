{
 "cells": [
  {
   "cell_type": "markdown",
   "id": "b2eba987",
   "metadata": {},
   "source": [
    "#### 선형회귀(최소제곱법)\n",
    "- 분포되어있는 데이터에 선을 그어서 대략적인 값을 예측하는 방법\n",
    "- MSE(mean squared error)- 예측과 훈련 세트에 있는 타깃 y 사이의 평균제곱오차를 최소화하는 파라미터 w와 b를 찾는다.\n",
    "- 임의의 ax+b 직선과 실제 데이터 값 사이의 차이를제곱의 평균을해서 편미분으로 해당 값을 구해서 기울기가 0이되는 값을 찾아서 최적해를 구하는 방법 "
   ]
  },
  {
   "cell_type": "code",
   "execution_count": 3,
   "id": "742d0c5e",
   "metadata": {
    "collapsed": true
   },
   "outputs": [
    {
     "name": "stdout",
     "output_type": "stream",
     "text": [
      "Requirement already satisfied: mglearn in c:\\users\\a\\anaconda3\\lib\\site-packages (0.1.9)\n",
      "Requirement already satisfied: numpy in c:\\users\\a\\anaconda3\\lib\\site-packages (from mglearn) (1.20.1)\n",
      "Requirement already satisfied: cycler in c:\\users\\a\\anaconda3\\lib\\site-packages (from mglearn) (0.10.0)\n",
      "Requirement already satisfied: joblib in c:\\users\\a\\anaconda3\\lib\\site-packages (from mglearn) (1.0.1)\n",
      "Requirement already satisfied: matplotlib in c:\\users\\a\\anaconda3\\lib\\site-packages (from mglearn) (3.3.4)\n",
      "Requirement already satisfied: scikit-learn in c:\\users\\a\\anaconda3\\lib\\site-packages (from mglearn) (0.24.1)\n",
      "Requirement already satisfied: imageio in c:\\users\\a\\anaconda3\\lib\\site-packages (from mglearn) (2.9.0)\n",
      "Requirement already satisfied: pandas in c:\\users\\a\\anaconda3\\lib\\site-packages (from mglearn) (1.2.4)\n",
      "Requirement already satisfied: pillow in c:\\users\\a\\anaconda3\\lib\\site-packages (from mglearn) (8.2.0)\n",
      "Requirement already satisfied: six in c:\\users\\a\\anaconda3\\lib\\site-packages (from cycler->mglearn) (1.15.0)\n",
      "Requirement already satisfied: python-dateutil>=2.1 in c:\\users\\a\\anaconda3\\lib\\site-packages (from matplotlib->mglearn) (2.8.1)\n",
      "Requirement already satisfied: pyparsing!=2.0.4,!=2.1.2,!=2.1.6,>=2.0.3 in c:\\users\\a\\anaconda3\\lib\\site-packages (from matplotlib->mglearn) (2.4.7)\n",
      "Requirement already satisfied: kiwisolver>=1.0.1 in c:\\users\\a\\anaconda3\\lib\\site-packages (from matplotlib->mglearn) (1.3.1)\n",
      "Requirement already satisfied: pytz>=2017.3 in c:\\users\\a\\anaconda3\\lib\\site-packages (from pandas->mglearn) (2021.1)\n",
      "Requirement already satisfied: scipy>=0.19.1 in c:\\users\\a\\anaconda3\\lib\\site-packages (from scikit-learn->mglearn) (1.6.2)\n",
      "Requirement already satisfied: threadpoolctl>=2.0.0 in c:\\users\\a\\anaconda3\\lib\\site-packages (from scikit-learn->mglearn) (2.1.0)\n"
     ]
    }
   ],
   "source": [
    "!pip install mglearn"
   ]
  },
  {
   "cell_type": "code",
   "execution_count": 5,
   "id": "27c51cde",
   "metadata": {},
   "outputs": [],
   "source": [
    "import mglearn"
   ]
  },
  {
   "cell_type": "code",
   "execution_count": 9,
   "id": "7516b51f",
   "metadata": {},
   "outputs": [],
   "source": [
    "from sklearn.linear_model import LinearRegression\n",
    "from sklearn.model_selection import train_test_split\n",
    "\n",
    "X, y = mglearn.datasets.make_wave(n_samples=60)\n",
    "X_train, X_test, y_train, y_test = train_test_split(X, y , random_state=42)\n",
    "\n",
    "lr = LinearRegression().fit(X_train, y_train)"
   ]
  },
  {
   "cell_type": "code",
   "execution_count": 13,
   "id": "7ea7d3b5",
   "metadata": {},
   "outputs": [
    {
     "name": "stdout",
     "output_type": "stream",
     "text": [
      "lr.coef :  [0.39390555]\n",
      "lr.intercept_ :  -0.031804343026759746\n"
     ]
    }
   ],
   "source": [
    "print(\"lr.coef : \", lr.coef_)\n",
    "print(\"lr.intercept_ : \",lr.intercept_)"
   ]
  },
  {
   "cell_type": "code",
   "execution_count": 16,
   "id": "4c0360e4",
   "metadata": {},
   "outputs": [
    {
     "data": {
      "text/plain": [
       "0.65933685968637"
      ]
     },
     "execution_count": 16,
     "metadata": {},
     "output_type": "execute_result"
    }
   ],
   "source": [
    "lr.score(X_train, y_train)\n"
   ]
  },
  {
   "cell_type": "code",
   "execution_count": 17,
   "id": "6fec003a",
   "metadata": {},
   "outputs": [
    {
     "data": {
      "text/plain": [
       "0.65933685968637"
      ]
     },
     "execution_count": 17,
     "metadata": {},
     "output_type": "execute_result"
    }
   ],
   "source": [
    "lr.score(X_test, y_test)"
   ]
  },
  {
   "cell_type": "code",
   "execution_count": null,
   "id": "6fa814fb",
   "metadata": {},
   "outputs": [],
   "source": []
  }
 ],
 "metadata": {
  "kernelspec": {
   "display_name": "Python 3",
   "language": "python",
   "name": "python3"
  },
  "language_info": {
   "codemirror_mode": {
    "name": "ipython",
    "version": 3
   },
   "file_extension": ".py",
   "mimetype": "text/x-python",
   "name": "python",
   "nbconvert_exporter": "python",
   "pygments_lexer": "ipython3",
   "version": "3.8.8"
  }
 },
 "nbformat": 4,
 "nbformat_minor": 5
}
