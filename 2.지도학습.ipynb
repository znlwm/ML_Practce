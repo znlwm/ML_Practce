{
 "cells": [
  {
   "cell_type": "markdown",
   "id": "a88dfbdf",
   "metadata": {},
   "source": [
    "####  2.1 분류 classification 와 회귀 regressioin\n",
    "- 분류 1)이진분류 binary classification 2) 다중 분류 multiclass cllasification  \n",
    " 1) binary classification - positive / negative - 두 개 클래스를 지칭하는 말이지 좋고 나쁘고를 뜻하지 않음\n",
    "\n",
    "- 회귀 - 연속성이 있는 데이터(연소득예측)를 예측"
   ]
  },
  {
   "cell_type": "markdown",
   "id": "d2babaa6",
   "metadata": {},
   "source": [
    "#### 2.2 일반화, 과대적합, 과소적합\n",
    "- 일반화 generalization -모델이 처음보는 데이터를 정확하게 예측할 수 있으면 훈련세트에서 테스트 세트로 '일반화'되었다고 한다.\n",
    "- 과대적합 overfitting - 너무 복잡해서 모델을 만들어서 훈련세트 샘플에 너무 가깝게 맞춰져있어서 일반화 되기 어려운 경우.\n",
    "- 과소적합 underfitting - 너무 간단한 모델을 만들어서 데이터의 다양성을 잡아내지 못하는 경우"
   ]
  },
  {
   "cell_type": "markdown",
   "id": "898a398b",
   "metadata": {},
   "source": [
    "#### 지도 학습 알고리즘"
   ]
  },
  {
   "cell_type": "code",
   "execution_count": 93,
   "id": "f4c3fb56",
   "metadata": {},
   "outputs": [],
   "source": [
    "import mglearn\n",
    "import matplotlib.pyplot as plt\n",
    "from sklearn.datasets import make_blobs"
   ]
  },
  {
   "cell_type": "markdown",
   "id": "9cc22828",
   "metadata": {},
   "source": [
    "### 데이터 셋 종류"
   ]
  },
  {
   "cell_type": "markdown",
   "id": "d4188636",
   "metadata": {},
   "source": [
    "#### 1) forge 데이터셋"
   ]
  },
  {
   "cell_type": "code",
   "execution_count": 94,
   "id": "e1a1f72e",
   "metadata": {
    "scrolled": false
   },
   "outputs": [
    {
     "name": "stdout",
     "output_type": "stream",
     "text": [
      "X.shape: (26, 2)\n"
     ]
    },
    {
     "name": "stderr",
     "output_type": "stream",
     "text": [
      "C:\\Users\\A\\anaconda3\\lib\\site-packages\\sklearn\\utils\\deprecation.py:86: FutureWarning: Function make_blobs is deprecated; Please import make_blobs directly from scikit-learn\n",
      "  warnings.warn(msg, category=FutureWarning)\n"
     ]
    },
    {
     "data": {
      "image/png": "[encoded data removed]",
      "text/plain": [
       "<Figure size 432x288 with 1 Axes>"
      ]
     },
     "metadata": {
      "needs_background": "light"
     },
     "output_type": "display_data"
    }
   ],
   "source": [
    "# forge dataset- 인위적으로 만든 이진분류 데이터셋\n",
    "# x축 = 첫 번째특성 ,y축= 두 번째 특성\n",
    "X,y = mglearn.datasets.make_forge() # 데이터셋 만듦\n",
    "\n",
    "# 산점도 표시\n",
    "mglearn.discrete_scatter(X[:,0], X[:,1],y)\n",
    "plt.legend([\"class0\",\"class1\"], loc=4)\n",
    "plt.xlabel(\"First Attribute\")\n",
    "plt.ylabel(\"Second Attribute\")\n",
    "print(\"X.shape:\",X.shape) # 26개 데이터 포인트와 2개 특성\n",
    "plt.show()"
   ]
  },
  {
   "cell_type": "markdown",
   "id": "2b71ee3b",
   "metadata": {},
   "source": [
    "#### 2) wave 데이터셋\n",
    "- 입력특성 하나와 모델링할 타깃 변수 가짐"
   ]
  },
  {
   "cell_type": "code",
   "execution_count": 95,
   "id": "de022992",
   "metadata": {},
   "outputs": [
    {
     "data": {
      "text/plain": [
       "Text(0, 0.5, 'target')"
      ]
     },
     "execution_count": 95,
     "metadata": {},
     "output_type": "execute_result"
    },
    {
     "data": {
      "image/png": "[encoded data removed]",
      "text/plain": [
       "<Figure size 432x288 with 1 Axes>"
      ]
     },
     "metadata": {
      "needs_background": "light"
     },
     "output_type": "display_data"
    }
   ],
   "source": [
    "X, y = mglearn.datasets.make_wave(n_samples=40)\n",
    "plt.plot(X,y,'o')\n",
    "plt.ylim(-3,3)\n",
    "plt.xlabel(\"attribute\")\n",
    "plt.ylabel(\"target\")"
   ]
  },
  {
   "cell_type": "markdown",
   "id": "3ea58ba8",
   "metadata": {},
   "source": [
    "#### 3) 유방암 데이터\n",
    "- 양성 benign \n",
    "- 음성 malignant\n",
    "- 딕셔너리는 cancer['data'] 이렇게 찾고, 점 표기법은 cancer.data 이렇게 찾는다?"
   ]
  },
  {
   "cell_type": "code",
   "execution_count": 96,
   "id": "d8f2479f",
   "metadata": {},
   "outputs": [],
   "source": [
    "import numpy as np"
   ]
  },
  {
   "cell_type": "code",
   "execution_count": 97,
   "id": "092fe392",
   "metadata": {},
   "outputs": [
    {
     "name": "stdout",
     "output_type": "stream",
     "text": [
      "cancer.keys():\n",
      " dict_keys(['data', 'target', 'frame', 'target_names', 'DESCR', 'feature_names', 'filename'])\n"
     ]
    }
   ],
   "source": [
    "from sklearn.datasets import load_breast_cancer\n",
    "cancer = load_breast_cancer()\n",
    "print(\"cancer.keys():\\n\",cancer.keys())"
   ]
  },
  {
   "cell_type": "code",
   "execution_count": 98,
   "id": "a18a43fd",
   "metadata": {
    "scrolled": true
   },
   "outputs": [
    {
     "name": "stdout",
     "output_type": "stream",
     "text": [
      "유방암 데이터 형태 (569, 30)\n",
      "클래스별 샘플 개수:\n",
      " {'malignant': 212, 'benign': 357}\n"
     ]
    }
   ],
   "source": [
    "print(\"유방암 데이터 형태\",cancer.data.shape) # 569개 데이터 포인트, 30개 특성\n",
    "print(\"클래스별 샘플 개수:\\n\", \n",
    "      {n:v for n,v in zip(cancer.target_names, np.bincount(cancer['target']))})"
   ]
  },
  {
   "cell_type": "code",
   "execution_count": 99,
   "id": "cb9c5c01",
   "metadata": {},
   "outputs": [
    {
     "name": "stdout",
     "output_type": "stream",
     "text": [
      "특성이름: ['mean radius' 'mean texture' 'mean perimeter' 'mean area'\n",
      " 'mean smoothness' 'mean compactness' 'mean concavity'\n",
      " 'mean concave points' 'mean symmetry' 'mean fractal dimension'\n",
      " 'radius error' 'texture error' 'perimeter error' 'area error'\n",
      " 'smoothness error' 'compactness error' 'concavity error'\n",
      " 'concave points error' 'symmetry error' 'fractal dimension error'\n",
      " 'worst radius' 'worst texture' 'worst perimeter' 'worst area'\n",
      " 'worst smoothness' 'worst compactness' 'worst concavity'\n",
      " 'worst concave points' 'worst symmetry' 'worst fractal dimension']\n"
     ]
    }
   ],
   "source": [
    "print(\"특성이름:\",cancer.feature_names)"
   ]
  },
  {
   "cell_type": "markdown",
   "id": "90af8f18",
   "metadata": {},
   "source": [
    "#### 4) 보스턴 주택가격 데이터 Bostion Housing"
   ]
  },
  {
   "cell_type": "code",
   "execution_count": 100,
   "id": "6257c3c1",
   "metadata": {},
   "outputs": [
    {
     "name": "stdout",
     "output_type": "stream",
     "text": [
      "데이터의 형태: (506, 13)\n"
     ]
    }
   ],
   "source": [
    "from sklearn.datasets import load_boston\n",
    "boston = load_boston()\n",
    "print(\"데이터의 형태:\", boston.data.shape)"
   ]
  },
  {
   "cell_type": "code",
   "execution_count": 101,
   "id": "059c5c5c",
   "metadata": {},
   "outputs": [
    {
     "name": "stdout",
     "output_type": "stream",
     "text": [
      "X.shape: (506, 104)\n"
     ]
    }
   ],
   "source": [
    "# 특성공학 - 위의 13개의 데이터 특성 끼리 서로 곱하여 특성 개수를 확장하는 것\n",
    "X, y = mglearn.datasets.load_extended_boston()\n",
    "print(\"X.shape:\",X.shape)# 13개의 원래 특성에 13개에서 2개씩 "
   ]
  },
  {
   "cell_type": "markdown",
   "id": "3553d2f8",
   "metadata": {},
   "source": [
    "### k-최근접 이웃\n",
    "- 이웃이 1개가 아닌 임의의 k개의 이웃을 선택해서 이웃 선택가능\n",
    "- 테스트포인트 1개에 대해 클래스0에 속한 이웃이 몇 개인지, 클래스1에 속한 이웃이\n",
    "- 몇 개인지 세서 이웃이 더 많은 클래스를 레이블로 지정\n",
    "- 즉 k개의 최근접 이웃 중 다수의 클래스가 레이블이 됨"
   ]
  },
  {
   "cell_type": "code",
   "execution_count": 102,
   "id": "a5abbd55",
   "metadata": {
    "scrolled": false
   },
   "outputs": [
    {
     "name": "stderr",
     "output_type": "stream",
     "text": [
      "C:\\Users\\A\\anaconda3\\lib\\site-packages\\sklearn\\utils\\deprecation.py:86: FutureWarning: Function make_blobs is deprecated; Please import make_blobs directly from scikit-learn\n",
      "  warnings.warn(msg, category=FutureWarning)\n"
     ]
    },
    {
     "data": {
      "image/png": "[encoded data removed]",
      "text/plain": [
       "<Figure size 432x288 with 1 Axes>"
      ]
     },
     "metadata": {
      "needs_background": "light"
     },
     "output_type": "display_data"
    }
   ],
   "source": [
    "mglearn.plots.plot_knn_classification(n_neighbors=3)\n",
    "plt.show()"
   ]
  },
  {
   "cell_type": "markdown",
   "id": "e19cfc57",
   "metadata": {},
   "source": [
    "#### k-최근접 이웃 알고리즘 적용"
   ]
  },
  {
   "cell_type": "code",
   "execution_count": 103,
   "id": "349d4edc",
   "metadata": {},
   "outputs": [
    {
     "name": "stderr",
     "output_type": "stream",
     "text": [
      "C:\\Users\\A\\anaconda3\\lib\\site-packages\\sklearn\\utils\\deprecation.py:86: FutureWarning: Function make_blobs is deprecated; Please import make_blobs directly from scikit-learn\n",
      "  warnings.warn(msg, category=FutureWarning)\n"
     ]
    }
   ],
   "source": [
    "# 훈련 데이터 분리\n",
    "from sklearn.model_selection import train_test_split\n",
    "X, y= mglearn.datasets.make_forge()\n",
    "\n",
    "X_train, X_test, y_train, y_test = train_test_split(X,y,random_state=0)"
   ]
  },
  {
   "cell_type": "code",
   "execution_count": 104,
   "id": "e91de208",
   "metadata": {},
   "outputs": [
    {
     "name": "stdout",
     "output_type": "stream",
     "text": [
      "테스트 세트 예측: [1 0 1 0 1 0 0]\n",
      "테스트 세트 정확도 :0.86\n",
      "0.8571428571428571\n"
     ]
    }
   ],
   "source": [
    "# 분류 모델 불러옴\n",
    "from sklearn.neighbors import KNeighborsClassifier\n",
    "clf=KNeighborsClassifier(n_neighbors=3)\n",
    "\n",
    "# 학습 fit\n",
    "clf.fit(X_train,y_train)\n",
    "\n",
    "# 예측 predict\n",
    "print(\"테스트 세트 예측:\", clf.predict(X_test)) # 각 데이터 포인트에 대해 가까운이웃 계산 후 가장 많은 클래스 찾음\n",
    "\n",
    "# 평가 score \n",
    "print(\"테스트 세트 정확도 :{:.2f}\".format(clf.score(X_test,y_test)))\n",
    "print(clf.score(X_test,y_test))\n",
    "\n",
    "\n"
   ]
  },
  {
   "cell_type": "markdown",
   "id": "65157d49",
   "metadata": {},
   "source": [
    "#### KNeighborsClassifier 분석"
   ]
  },
  {
   "cell_type": "markdown",
   "id": "355e68bf",
   "metadata": {},
   "source": [
    "- 이웃 수에 따라 결정경계 decision boundary가 어떻게 달라지는지 확인"
   ]
  },
  {
   "cell_type": "code",
   "execution_count": 114,
   "id": "e6a3bcf0",
   "metadata": {},
   "outputs": [
    {
     "data": {
      "text/plain": [
       "<matplotlib.legend.Legend at 0x275a18080a0>"
      ]
     },
     "execution_count": 114,
     "metadata": {},
     "output_type": "execute_result"
    },
    {
     "name": "stderr",
     "output_type": "stream",
     "text": [
      "C:\\Users\\A\\anaconda3\\lib\\site-packages\\matplotlib\\backends\\backend_agg.py:238: RuntimeWarning: Glyph 53945 missing from current font.\n",
      "  font.set_text(s, 0.0, flags=flags)\n",
      "C:\\Users\\A\\anaconda3\\lib\\site-packages\\matplotlib\\backends\\backend_agg.py:238: RuntimeWarning: Glyph 49457 missing from current font.\n",
      "  font.set_text(s, 0.0, flags=flags)\n",
      "C:\\Users\\A\\anaconda3\\lib\\site-packages\\matplotlib\\backends\\backend_agg.py:201: RuntimeWarning: Glyph 53945 missing from current font.\n",
      "  font.set_text(s, 0, flags=flags)\n",
      "C:\\Users\\A\\anaconda3\\lib\\site-packages\\matplotlib\\backends\\backend_agg.py:201: RuntimeWarning: Glyph 49457 missing from current font.\n",
      "  font.set_text(s, 0, flags=flags)\n"
     ]
    },
    {
     "data": {
      "image/png": "[encoded data removed]",
      "text/plain": [
       "<Figure size 720x216 with 3 Axes>"
      ]
     },
     "metadata": {},
     "output_type": "display_data"
    }
   ],
   "source": [
    "fig, axes = plt.subplots(1,3,figsize=(10,3))\n",
    "for n_neighbors, ax in zip([1,3,9], axes):\n",
    "    #fit 메소드는 self 오브젝트를 리턴하기 때문에 객체 생성과 fit 메소드 한번에씀\n",
    "    clf=KNeighborsClassifier(n_neighbors=n_neighbors).fit(X,y)\n",
    "   \n",
    "    mglearn.plots.plot_2d_separator(clf, X, fill=True, eps=0.5,ax=ax,alpha=.4)\n",
    "    mglearn.discrete_scatter(X[:,0],X[:,1],y, ax=ax)\n",
    "    ax.set_title(\"{} neighbors\".format(n_neighbors))\n",
    "    ax.set_xlabel(\"특성 0\")\n",
    "    ax.set_ylabel(\"특성 1\")\n",
    "axes[0].legend(loc=3)\n"
   ]
  },
  {
   "cell_type": "markdown",
   "id": "b0364f5a",
   "metadata": {},
   "source": [
    "- 유방암 데이터셋에 적용"
   ]
  },
  {
   "cell_type": "code",
   "execution_count": 118,
   "id": "c404c0c0",
   "metadata": {},
   "outputs": [
    {
     "data": {
      "text/plain": [
       "<matplotlib.legend.Legend at 0x275a24be850>"
      ]
     },
     "execution_count": 118,
     "metadata": {},
     "output_type": "execute_result"
    },
    {
     "data": {
      "image/png": "[encoded data removed]",
      "text/plain": [
       "<Figure size 432x288 with 1 Axes>"
      ]
     },
     "metadata": {
      "needs_background": "light"
     },
     "output_type": "display_data"
    }
   ],
   "source": [
    "from sklearn.datasets import load_breast_cancer\n",
    "\n",
    "cancer = load_breast_cancer()\n",
    "X_train, X_test, y_train, y_test = train_test_split(\n",
    "cancer.data, cancer.target, stratify=cancer.target, random_state=66)\n",
    "\n",
    "training_accuracy=[]\n",
    "test_accuracy=[]\n",
    "# 1에서 10까지 n_neighbors 적용\n",
    "neighbors_settings = range(1,11)\n",
    "for n_neighbors in neighbors_settings:\n",
    "    # 모델 생성\n",
    "    clf = KNeighborsClassifier(n_neighbors=n_neighbors)\n",
    "    clf.fit(X_train, y_train)\n",
    "    # 훈련 세트 정확도 저장\n",
    "    training_accuracy.append(clf.score(X_train, y_train))\n",
    "    # 일반화 정확도 저장\n",
    "    test_accuracy.append(clf.score(X_test, y_test))\n",
    "    \n",
    "plt.plot(neighbors_settings, training_accuracy, label=\"training accuracy\")\n",
    "plt.plot(neighbors_settings, test_accuracy, label=\"test accuracy\")\n",
    "plt.ylabel(\"accuracy\")\n",
    "plt.xlabel(\"n_neighbors\")\n",
    "plt.legend()"
   ]
  },
  {
   "cell_type": "code",
   "execution_count": null,
   "id": "c1eda497",
   "metadata": {},
   "outputs": [],
   "source": []
  }
 ],
 "metadata": {
  "kernelspec": {
   "display_name": "Python 3",
   "language": "python",
   "name": "python3"
  },
  "language_info": {
   "codemirror_mode": {
    "name": "ipython",
    "version": 3
   },
   "file_extension": ".py",
   "mimetype": "text/x-python",
   "name": "python",
   "nbconvert_exporter": "python",
   "pygments_lexer": "ipython3",
   "version": "3.8.8"
  }
 },
 "nbformat": 4,
 "nbformat_minor": 5
}
